{
 "cells": [
  {
   "cell_type": "markdown",
   "metadata": {
    "id": "J4KCchxjbHGS"
   },
   "source": [
    "### Если вы хотите выполнять эту домашку на своём компе, то вам придётся даунгрейднуть gym. Вот код который должен выполниться сам, но возможно ещё что-то вам поломает.\n",
    "\n",
    "### Или просто делайте её в гугл колабе, там всё само поставится и будет ок, но в гугл колабе не работает рендер (ImportError: Library \"GLU\" not found.)\n"
   ]
  },
  {
   "cell_type": "code",
   "execution_count": 1,
   "metadata": {
    "id": "xF-yLTBEecQY"
   },
   "outputs": [
    {
     "name": "stdout",
     "output_type": "stream",
     "text": [
      "Requirement already satisfied: wheel==0.38.4 in c:\\users\\venhi\\anaconda3\\lib\\site-packages (0.38.4)\n",
      "Requirement already satisfied: setuptools==66 in c:\\users\\venhi\\anaconda3\\lib\\site-packages (66.0.0)\n",
      "Requirement already satisfied: gym==0.21.0 in c:\\users\\venhi\\anaconda3\\lib\\site-packages (0.21.0)\n",
      "Requirement already satisfied: numpy>=1.18.0 in c:\\users\\venhi\\anaconda3\\lib\\site-packages (from gym==0.21.0) (1.24.3)\n",
      "Requirement already satisfied: cloudpickle>=1.2.0 in c:\\users\\venhi\\anaconda3\\lib\\site-packages (from gym==0.21.0) (2.2.1)\n",
      "Requirement already satisfied: pyglet==1.5.27 in c:\\users\\venhi\\anaconda3\\lib\\site-packages (1.5.27)\n"
     ]
    }
   ],
   "source": [
    "!pip install wheel==0.38.4\n",
    "!pip install setuptools==66\n",
    "!pip install gym==0.21.0\n",
    "!pip install pyglet==1.5.27\n",
    "#тут я установил библиотеки нужной версии (долго искал как установить надо)"
   ]
  },
  {
   "cell_type": "code",
   "execution_count": 17,
   "metadata": {
    "id": "nXo056qobHGV"
   },
   "outputs": [],
   "source": [
    "import gym#в этой библиотеки куча наборов сред, в этой работате мы воспользовались \"CartPole-v0\"\n",
    "import numpy as np\n",
    "import matplotlib.pyplot as plt #удобная библиотека, с помощью которой можно выводить состояния на экран\n",
    "import pyglet\n",
    "%matplotlib inline #с этой штукой наши графики отображены не в отдельном окне, а тут\n",
    "from IPython.display import clear_output #а эта штука нужна для отображения каждого шага в окнах. то есть сначала нужно стереть прошлый шаг, чтобы вывести текущий\n",
    "\n",
    "from math import * #звуздочка нужна для того, чтобы импортировать все сразу, а не импортировать по отдельности каждое\n",
    "import time #тайм\n",
    "time.clock = time.time"
   ]
  },
  {
   "cell_type": "markdown",
   "metadata": {
    "id": "YNo09oxebHGW"
   },
   "source": [
    "## Seminar: Monte-carlo tree search\n",
    "\n",
    "In this seminar, we'll implement a vanilla MCTS planning and use it to solve some Gym envs.\n",
    "\n",
    "But before we do that, we first need to modify gym env to allow saving and loading game states to facilitate backtracking."
   ]
  },
  {
   "cell_type": "code",
   "execution_count": 18,
   "metadata": {
    "colab": {
     "base_uri": "https://localhost:8080/"
    },
    "executionInfo": {
     "elapsed": 16,
     "status": "ok",
     "timestamp": 1697190408452,
     "user": {
      "displayName": "Иван Капранов",
      "userId": "03211624233193923671"
     },
     "user_tz": -180
    },
    "id": "GQGz_gzObHGX",
    "outputId": "1981a279-b103-4584-93eb-e81f716f256c"
   },
   "outputs": [],
   "source": [
    "from gym.core import Wrapper #класс Wrapperэту штуку часто используют, когда требуется модифицировать или настроить поведение игровой среды без изменения её исходного кода\n",
    "from pickle import dumps,loads #как я и написал внизу dumps преобразует данные в линейную форму, которую можно удобно сохранить, а loads переделывает обратно\n",
    "from collections import namedtuple #штука которой удобно пользоваться, как например в следующей строчке\n",
    "\n",
    "ActionResult = namedtuple(\"action_result\",(\"snapshot\",\"observation\",\"reward\",\"is_done\",\"info\")) #в принципе можно хранить данные и по-другому, но так удобнее и красивее. эта команда создает тип данных ActionResult, у которого есть поля описанные в строках\n",
    "\n",
    "class WithSnapshots(Wrapper): #созданием этого класса мы хотим дополнить функции класса Wrapper\n",
    "    \"\"\"\n",
    "    Creates a wrapper that supports saving and loading environemnt states.\n",
    "    Required for planning algorithms.\n",
    "\n",
    "    This class will have access to the core environment as self.env, e.g.:\n",
    "    - self.env.reset()           #reset original env\n",
    "    - self.env.ale.cloneState()  #make snapshot for atari. load with .restoreState()\n",
    "    - ...\n",
    "\n",
    "    You can also use reset, step and render directly for convenience.\n",
    "    - s, r, done, _ = self.step(action)   #step, same as self.env.step(action)\n",
    "    - self.render(close=True)             #close window, same as self.env.render(close=True)\n",
    "    \"\"\"\n",
    "\n",
    "        \n",
    "    def get_snapshot(self): #функция получения состояния\n",
    "        \"\"\"\n",
    "        :returns: environment state that can be loaded with load_snapshot \n",
    "        Snapshots guarantee same env behaviour each time they are loaded.\n",
    "        \n",
    "        Warning! Snapshots can be arbitrary things (strings, integers, json, tuples)\n",
    "        Don't count on them being pickle strings when implementing MCTS.\n",
    "        \n",
    "        Developer Note: Make sure the object you return will not be affected by \n",
    "        anything that happens to the environment after it's saved.\n",
    "        You shouldn't, for example, return self.env. \n",
    "        In case of doubt, use pickle.dumps or deepcopy.\n",
    "        \n",
    "        \"\"\"\n",
    "        self.close() #закрываем всплывающие окна для того, чтобы завершить отображение информации.\n",
    "        return dumps(self.env) #чтобы на наш возращаемый объект ничего не повлияло лучше вернуть dumps(self.env). эта функция сериализирует наши данные. короче классная штука, которая сохраняет данные в удобной форме, которую можно будет переделать (ну как раз с помощью команды loads)\n",
    "    \n",
    "    def load_snapshot(self,snapshot): #эта функция нужна для того, чтобы сделать снимок и загрузить его в качестве состояния среды, а также предотвратить возможную не запись среды \n",
    "        \"\"\"\n",
    "        Loads snapshot as current env state.\n",
    "        Should not change snapshot inplace (in case of doubt, deepcopy\n",
    "        \"\"\"\n",
    "        \n",
    "        assert not hasattr(self,\"_monitor\") or hasattr(self.env,\"_monitor\"), \"can't backtrack while recording\" #я разобрался что делает эта штука. если выражение not hasattr(self,\"_monitor\") или hasattr(self.env,\"_monitor\") правда то все норм, а если нет то вызывается ошибка ассерта. по факту эта строка гарантирует что наши данные сохранились\n",
    "\n",
    "        self.close() #закрываем всплывающие окна для того, чтобы завершить отображение информации.\n",
    "        self.env = loads(snapshot) #загружает снимок в текущее состояние среды\n",
    "    \n",
    "    def get_result(self,snapshot,action):\n",
    "        \"\"\"\n",
    "        A convenience function that \n",
    "        - loads snapshot, \n",
    "        - commits action via self.step,\n",
    "        - and takes snapshot again :)\n",
    "        \n",
    "        :returns: next snapshot, next_observation, reward, is_done, info\n",
    "        \n",
    "        Basically it returns next snapshot and everything that env.step would have returned.\n",
    "        \"\"\"\n",
    "        state = self.load_snapshot(snapshot) #загружает состояние окружения из сохраненного снимка\n",
    "        s, r, done, i = self.step(action) #тут мы делаем шаг в котором получаем наблюдения ситуации (в переменную s), также награду (в переменную r), получилось ли сделать (в переменную done), а также дополнительную информацию (в переменную i)\n",
    "        nextsn = self.get_snapshot() #в эту переменную записывает текущий снимок состояния окружения\n",
    "        \n",
    "        return ActionResult(nextsn, s, r, done, i) #возвращает данные в удобном формате, который был описан ранее (в начале)"
   ]
  },
  {
   "cell_type": "markdown",
   "metadata": {
    "id": "Z1XJQFOhbHGX"
   },
   "source": [
    "### try out snapshots (2 pts):\n"
   ]
  },
  {
   "cell_type": "code",
   "execution_count": 19,
   "metadata": {
    "colab": {
     "base_uri": "https://localhost:8080/",
     "height": 140
    },
    "executionInfo": {
     "elapsed": 14,
     "status": "error",
     "timestamp": 1697190408452,
     "user": {
      "displayName": "Иван Капранов",
      "userId": "03211624233193923671"
     },
     "user_tz": -180
    },
    "id": "vYqZwevybHGY",
    "outputId": "ac851638-57cd-47a3-8a11-711f6565ff29"
   },
   "outputs": [],
   "source": [
    "env = WithSnapshots(gym.make(\"CartPole-v0\"))#окей, я понял, что тут он создает среду, которая похожа на маятник на тележке (удобная фигня из библиотеки gym) и записывает ее в эту переменную новым классом, который мы описали ранее. ну в смысле добавили новые функции к классу Wrapper\n",
    "env.reset()#сбрасывает среду в начальное состояние\n",
    "\n",
    "n_actions = env.action_space.n #подсчитывает количество возможных действий в этой среде и присваивает этой переменной"
   ]
  },
  {
   "cell_type": "code",
   "execution_count": 20,
   "metadata": {
    "id": "lpEGQ7RSbHGY"
   },
   "outputs": [
    {
     "name": "stdout",
     "output_type": "stream",
     "text": [
      "initial_state:\n"
     ]
    },
    {
     "data": {
      "image/png": "[encoded data removed]",
      "text/plain": [
       "<Figure size 640x480 with 1 Axes>"
      ]
     },
     "metadata": {},
     "output_type": "display_data"
    }
   ],
   "source": [
    "print(\"initial_state:\")\n",
    "\n",
    "plt.imshow(env.render('rgb_array')) #эта стркоа показывает наше текущее состояние в среде env, тк как наша среда была сброшена, то это самое первое состояние которое запрогано в этой игре\n",
    "\n",
    "snap0 = env.get_snapshot() #мы получаем первый снимок среды"
   ]
  },
  {
   "cell_type": "code",
   "execution_count": 21,
   "metadata": {
    "id": "re7ZcINYbHGY"
   },
   "outputs": [
    {
     "data": {
      "image/png": "[encoded data removed]",
      "text/plain": [
       "<Figure size 640x480 with 1 Axes>"
      ]
     },
     "metadata": {},
     "output_type": "display_data"
    }
   ],
   "source": [
    "while True:\n",
    "    is_done = env.step(env.action_space.sample())[2] #короче мы предпринимаем рандомные шаги и смотрим че происходит, а нашу информацию записываем в эту переменную\n",
    "    if is_done: #тк это первые шаги с помощью которых мы будем потом учить нашу машинку, то мы дожидаемся пока он не проиграет, а дальше будем учить ее по информации, которую она получила\n",
    "        print(\"Whoops! We died!\")\n",
    "        break\n",
    "        \n",
    "print(\"final state:\")\n",
    "clear_output(True)\n",
    "plt.imshow(env.render('rgb_array')) #просто выводим последний шаг\n",
    "plt.show()"
   ]
  },
  {
   "cell_type": "code",
   "execution_count": 22,
   "metadata": {
    "id": "nrL8Xv0ubHGZ"
   },
   "outputs": [
    {
     "name": "stdout",
     "output_type": "stream",
     "text": [
      "\n",
      "\n",
      "After loading snapshot\n"
     ]
    },
    {
     "data": {
      "image/png": "[encoded data removed]",
      "text/plain": [
       "<Figure size 640x480 with 1 Axes>"
      ]
     },
     "metadata": {},
     "output_type": "display_data"
    }
   ],
   "source": [
    "\n",
    "env.load_snapshot(snap0) #загружаем состояние среды, которое получили в прошлом блоке\n",
    "\n",
    "print(\"\\n\\nAfter loading snapshot\") #ну я думаю объяснять не надо\n",
    "plt.imshow(env.render('rgb_array')) #получается мы показали состояние среды после загрузки конечного состояния\n",
    "plt.show()"
   ]
  },
  {
   "cell_type": "code",
   "execution_count": 23,
   "metadata": {
    "id": "8goTWHdkbHGZ"
   },
   "outputs": [],
   "source": [
    "\n",
    "res = env.get_result(snap0,env.action_space.sample()) #здесь мы получаем результат об одном рандомном действии\n",
    "\n",
    "snap1, observation, reward = res[:3] #я так понял что мы развертываем результат и в переменную snap1 кидает снимок после выполнения, в observation - состояние, а в reward - награду полученную за этот шаг\n",
    "\n",
    "res2 = env.get_result(snap1,env.action_space.sample()) #тут мы делаем еще действие и записываем его в res2"
   ]
  },
  {
   "cell_type": "markdown",
   "metadata": {
    "id": "h_r-WcOQbHGa"
   },
   "source": [
    "# MCTS: Monte-Carlo tree search\n",
    "\n",
    "In this section, we'll implement the vanilla MCTS algorithm with UCB1-based node selection.\n",
    "\n",
    "We will start by implementing the `Node` class - a simple class that acts like MCTS node and supports some of the MCTS algorithm steps.\n",
    "\n",
    "This MCTS implementation makes some assumptions about the environment, you can find those _in the notes section at the end of the notebook_."
   ]
  },
  {
   "cell_type": "code",
   "execution_count": 24,
   "metadata": {
    "id": "KSGs9D89bHGa"
   },
   "outputs": [],
   "source": [
    "assert isinstance(env,WithSnapshots) #я не очень опнимаю зачем тутэта команда, потому что она просто проверяет принадлежит ли наша среда классу, который мы ей давали"
   ]
  },
  {
   "cell_type": "code",
   "execution_count": 25,
   "metadata": {
    "id": "egvO4VoobHGa"
   },
   "outputs": [],
   "source": [
    "class Node: #это то как строится сам mcts, который я не мог рассказать. строим свой\n",
    "    \"\"\" a tree node for MCTS \"\"\"\n",
    "    \n",
    "\n",
    "    parent = None  \n",
    "    value_sum = 0.  \n",
    "    times_visited = 0\n",
    "    #тут добавление параметов которыми владеет нод. все они названы очень понятно, поэтому я думаю, что можно не обьяснять\n",
    "    \n",
    "    def __init__(self,parent,action,): #эта функция инициализирует данное действие дерева\n",
    "        \"\"\"\n",
    "        Creates and empty node with no children.\n",
    "        Does so by commiting an action and recording outcome.\n",
    "        \n",
    "        :param parent: parent Node\n",
    "        :param action: action to commit from parent Node\n",
    "        \n",
    "        \"\"\"\n",
    "        \n",
    "        self.parent = parent\n",
    "        self.action = action #в этой строчке и выше все понятно\n",
    "        self.children = set() #тут мы устанавливаем что у нас есть (в смысле существуют) следующие разные состояния\n",
    "\n",
    "        res = env.get_result(parent.snapshot,action) #тут мы получаем результат этого действия\n",
    "        self.snapshot,self.observation,self.immediate_reward,self.is_done,_ = res #и сохраняем\n",
    "        \n",
    "        \n",
    "    def is_leaf(self): #эта штука проверяет есть ли следующие ходы\n",
    "        return len(self.children)==0 #по коду все понятно\n",
    "    \n",
    "    def is_root(self): #смотрит начальный ли это ход\n",
    "        return self.parent is None #по коду все понятно\n",
    "    \n",
    "    def get_mean_value(self): #возвращает среднее значение\n",
    "        return self.value_sum / self.times_visited if self.times_visited !=0 else 0 #получается сумму значений на количество посещений\n",
    "    \n",
    "    def ucb_score(self,scale=10,max_value=1e100): #как вы говорили это ucb. расчитываем значение вершины, чтобы понять куда идти\n",
    "        \"\"\"\n",
    "        Computes ucb1 upper bound using current value and visit counts for node and it's parent.\n",
    "        \n",
    "        :param scale: Multiplies upper bound by that. From hoeffding inequality, assumes reward range to be [0,scale].\n",
    "        :param max_value: a value that represents infinity (for unvisited nodes)\n",
    "        \n",
    "        \"\"\"\n",
    "        \n",
    "        if self.times_visited == 0:\n",
    "            return max_value #все логично, чтобы x / 0 не получить\n",
    "        \n",
    "        U = (2 ** 0.5) * ((log(self.parent.times_visited if not self.is_root() else 0) / self.times_visited) ** 0.5)\n",
    "        #формулу такую же видел в интернете, я так понял отличается из-за scale, я не указал, что лучше иметь какой-то параметр, зависящий от среды \n",
    "        return self.get_mean_value() + scale*U\n",
    "    \n",
    "    \n",
    "    \n",
    "    def select_best_leaf(self): #рекурсивно выбирает нод с наивысшим приоритетом для расширения\n",
    "        \"\"\"\n",
    "        Picks the leaf with highest priority to expand\n",
    "        Does so by recursively picking nodes with best UCB-1 score until it reaches the leaf.\n",
    "        \n",
    "        \"\"\"\n",
    "        if self.is_leaf():\n",
    "            return self\n",
    "        \n",
    "        children = self.children\n",
    "        \n",
    "        best_child = [i for i in children][np.argmax(np.array([i.ucb_score() for i in children]))]\n",
    "        \n",
    "        return best_child.select_best_leaf() #я не знаю, что тут объяснять. тут итак все понятно идем каждый раз в наилучший и когда приходим туда, куда уже некуда идти (self.is_leaf()). и потом возвращаем это значение по рекурсии обратно\n",
    "    \n",
    "    def expand(self): #сама эта функция создает все возможные следующие ходы\n",
    "        \"\"\"\n",
    "        Expands the current node by creating all possible child nodes.\n",
    "        Then returns one of those children.\n",
    "        \"\"\"\n",
    "        \n",
    "        assert not self.is_done, \"can't expand from terminal state\" #это нужно, чтобы не пытаться развить следующие ходы, когда итак ситуация выиграна\n",
    "\n",
    "        for action in range(n_actions):\n",
    "            self.children.add(Node(self,action)) #тут для каждого возможного действия создается дочерний узел\n",
    "        \n",
    "        return self.select_best_leaf() #а тут он как раз таки выбирает наилучшую вершину для него методом, который я описал ранее\n",
    "    \n",
    "    def rollout(self,t_max=10**4): #проигрывает игру до конца выбирая действия случайным образом и суммируя вознаграждения. короче я почитал зачем это нужно. mcts иследуеи сначала ходы умно, а потом рандомно, чтобы получать информацию от этих обоих источников\n",
    "        \"\"\"\n",
    "        Play the game from this state to the end (done) or for t_max steps.\n",
    "        \n",
    "        On each step, pick action at random (hint: env.action_space.sample()).\n",
    "        \n",
    "        Compute sum of rewards from current state till \n",
    "        Note 1: use env.action_space.sample() for random action\n",
    "        Note 2: if node is terminal (self.is_done is True), just return 0\n",
    "        \n",
    "        \"\"\"\n",
    "            \n",
    "        env.load_snapshot(self.snapshot) #загружает состояние среды из сохраненного снимка текущего узла\n",
    "        obs = self.observation #сохраняет текущее наблюдение из нашего узла для того, чтобы обновлять состояние на каждом шаге\n",
    "        is_done = self.is_done #тут все понятно\n",
    "        \n",
    "        rollout_reward = 0 #будет суммировать вознаграждения в ходе проигрывания\n",
    "        \n",
    "        snap = self.snapshot #создает копию снимка текущего состояния\n",
    "        for _ in range(t_max):\n",
    "            if is_done:\n",
    "                break #тут все понятно. делаем макс количество шагов t_max\n",
    "            action = env.action_space.sample() #тут выбирается рандомное действие\n",
    "            snap, obs, rew, is_done, _ = env.get_result(snap,action) #получается новые результаты от рандомного действия, поэтому перезаписывается вот это все. новый снимок, новое наблюдение, вознаграждение, флаг завершения (snap, obs, rew, is_done)\n",
    "            rollout_reward += rew #добавляет полученное вознаграждение к общему суммарному вознаграждению за проигрывание\n",
    "\n",
    "        return rollout_reward #о нет, его возвращает\n",
    "    \n",
    "    def propagate(self,child_value): #рекурсивное обновление значения данных узлов на основе дочерних\n",
    "        \"\"\"\n",
    "        Uses child value (sum of rewards) to update parents recursively.\n",
    "        \"\"\"\n",
    "        my_value = self.immediate_reward + child_value #нуну подсчитывается значение. складывается сумма, подсчитанная в текущем узле вознаграждений и его дочерних.\n",
    "        \n",
    "        self.value_sum+=my_value #этим самым обновляется в принципе знаение этой вершины\n",
    "        self.times_visited+=1 #посещение этой вершины было поэтому вот это еще одно.\n",
    "        \n",
    "        if not self.is_root(): #если это не корневая вершина\n",
    "            self.parent.propagate(my_value) #а если нет, то тогда идем дальше по рекурсии\n",
    "        \n",
    "    def safe_delete(self):#ну да тут написано, что это безопасное удаление для предотвращения утечки памяти (в некоторых версиях питона), но теперь пон, что такое есть\n",
    "        \"\"\"safe delete to prevent memory leak in some python versions\"\"\"\n",
    "        del self.parent\n",
    "        for child in self.children:\n",
    "            child.safe_delete()#тут все мега очевидно\n",
    "            del child"
   ]
  },
  {
   "cell_type": "code",
   "execution_count": 26,
   "metadata": {
    "id": "nWOlUoggbHGa"
   },
   "outputs": [],
   "source": [
    "class Root(Node):#окей я понял, что есть специальный узел, который является корнем дерева и используется для начала планирования и поиска оптимальных действий в среде\n",
    "    def __init__(self,snapshot,observation):#инициализирует корень\n",
    "        \"\"\"\n",
    "        creates special node that acts like tree root\n",
    "        :snapshot: snapshot (from env.get_snapshot) to start planning from\n",
    "        :observation: last environment observation\n",
    "        \"\"\"\n",
    "        \n",
    "        self.parent = self.action = None\n",
    "        self.children = set()#все понятно, ставит себя и объявляет детей\n",
    "        \n",
    "\n",
    "        self.snapshot = snapshot #загружает снимок\n",
    "        self.observation = observation #загружает наблюдение среды\n",
    "        self.immediate_reward = 0 #награда\n",
    "        self.is_done=False #победа или нет\n",
    "    \n",
    "    @staticmethod #значит, что метод относится к самому классу и не требует создания объекта этого класса для его использования\n",
    "    def from_node(node): #инициализирует новый корневой узел на основе существующего узла\n",
    "        \"\"\"initializes node as root\"\"\"\n",
    "        root = Root(node.snapshot,node.observation) #создает новый корневой узел\n",
    "        copied_fields = [\"value_sum\",\"times_visited\",\"children\",\"is_done\"] #создается список полей, которые нужно скопировать из существующего узла в новый корневой узел\n",
    "        for field in copied_fields:\n",
    "            setattr(root,field,getattr(node,field)) #getattr и setattr используются для получения значения поля из существующего узла\n",
    "        return root #возвращаем новый инициализированный узел из данных существубщего узла"
   ]
  },
  {
   "cell_type": "markdown",
   "metadata": {
    "id": "XZMhoc30bHGb"
   },
   "source": [
    "## Main MCTS loop (4 pts)\n",
    "\n",
    "With all we implemented, MCTS boils down to a trivial piece of code."
   ]
  },
  {
   "cell_type": "code",
   "execution_count": 27,
   "metadata": {
    "id": "4wQZfnzJbHGb"
   },
   "outputs": [],
   "source": [
    "def plan_mcts(root,n_iters=10):#мы создали все нужное уже для использования mcts\n",
    "    \"\"\"\n",
    "    builds tree with monte-carlo tree search for n_iters iterations\n",
    "    :param root: tree node to plan from\n",
    "    :param n_iters: how many select-expand-simulate-propagete loops to make\n",
    "    \"\"\"\n",
    "    for _ in range(n_iters):\n",
    "        node = root.select_best_leaf()#выбирает лучший нод, используя UCB\n",
    "        if node.is_done:#если наш нод является конечным тоо\n",
    "            node.propagate(0)#обратное распространение с нулевым вознаграждением\n",
    "        else: #а иначе мы идем по этому ноду дальше (в смысле переходим к дочерним)\n",
    "            bstchld = node.expand() #я знаю, ято делает эта функция. я писал к ней объяснение\n",
    "            bstchld.propagate(bstchld.rollout()) #обратно рапространяет результат"
   ]
  },
  {
   "cell_type": "markdown",
   "metadata": {
    "id": "_7JeJcsKbHGb"
   },
   "source": [
    "## Plan and execute (3 pts)\n",
    "In this section, we use the MCTS implementation to find optimal policy."
   ]
  },
  {
   "cell_type": "code",
   "execution_count": 28,
   "metadata": {
    "id": "dNdCxfRBbHGb"
   },
   "outputs": [],
   "source": [
    "#тут мы создаем начальный корневой узел для алгоритма MCTS\n",
    "root_observation = env.reset() #сбрасывае нашу среду\n",
    "root_snapshot = env.get_snapshot() #снимок текущей сброшенной среды\n",
    "root = Root(root_snapshot,root_observation) #создает корневой узел, от которого и начинает строится дерево"
   ]
  },
  {
   "cell_type": "code",
   "execution_count": 29,
   "metadata": {
    "id": "0JLv6lI8bHGb"
   },
   "outputs": [],
   "source": [
    "#запускаем наш алгоритм mcts, для получения результатов, чтобы потом по ним выбирать лучши ходы\n",
    "plan_mcts(root,n_iters=50000)"
   ]
  },
  {
   "cell_type": "code",
   "execution_count": 30,
   "metadata": {
    "id": "DSHZil4AbHGb"
   },
   "outputs": [
    {
     "data": {
      "image/png": "[encoded data removed]",
      "text/plain": [
       "<Figure size 640x480 with 1 Axes>"
      ]
     },
     "metadata": {},
     "output_type": "display_data"
    },
    {
     "name": "stdout",
     "output_type": "stream",
     "text": [
      "Finished with reward =  200.0\n"
     ]
    }
   ],
   "source": [
    "from gym.core import Wrapper\n",
    "from IPython.display import clear_output #уже писал, этот сброс вывода, чтобы были видны действия на каждом шаге\n",
    "from itertools import count #импортирование бесконечного интератора\n",
    "from gym.wrappers import Monitor #предоставляет обертку для записи видео из среды\n",
    "\n",
    "total_reward = 0 #суммарная награда\n",
    "test_env = loads(root_snapshot) #создание среды, которая используется для того, чтобы показывать че происходит\n",
    "\n",
    "for i in count():\n",
    "    \n",
    "    best_child = [i for i in root.children][np.argmax(np.array([i.get_mean_value() for i in root.children]))] #получение лучшего дочернего узла\n",
    "    \n",
    "    s,r,done,_ = test_env.step(best_child.action)#далее идет шаг в сторону лучшего дочернего узла. наши переменные заменяются, ну потому что мы идем вперед\n",
    "    \n",
    "    #тут мы показываем результат нашего шага\n",
    "    clear_output(True)#отчищаем с помощью той импортированной штуки, чтобы наши изобрадения не шли друг за другом\n",
    "    plt.title(\"step %i\"%i)\n",
    "    plt.imshow(test_env.render('rgb_array'))\n",
    "    plt.show()#тут все понятно, пишется шаг и выводится картинка\n",
    "\n",
    "    total_reward += r #награда данного шага\n",
    "    if done:#тут понятно, если получилось, то все кайф\n",
    "        print(\"Finished with reward = \", total_reward)\n",
    "        break\n",
    "    \n",
    "    for child in root.children:#тут мы отбрасываем все ненужные дочерние узлы, чтобы удалить из памяти,  и сама память не переполнялась\n",
    "        if child != best_child:\n",
    "            child.safe_delete()\n",
    "\n",
    "    \n",
    "    root = Root.from_node(best_child)#ну а далее нужно сказать, что наш нынешний корень это самый лучший дочерний узел\n",
    "    \n",
    "    root.expand() #раскрываем все дочерние узлы\n",
    "    assert not root.is_leaf(), \"We ran out of tree! Need more planning! Try growing tree right inside the loop.\"#ну и тут мы проверяем, что есть дочерние узлы для дальнейших действий\n",
    "    "
   ]
  },
  {
   "cell_type": "markdown",
   "metadata": {
    "id": "ga5bow3HbHGb"
   },
   "source": [
    "## Report (1 pts)"
   ]
  },
  {
   "cell_type": "code",
   "execution_count": null,
   "metadata": {
    "id": "aswSOkFhbHGb"
   },
   "outputs": [],
   "source": [
    "короче я разобрался, как строится само дерево, и как работает сам mcts. то есть как дальше из полученных данных \"обучить\" машину. мне было полезно разобраться и проделать все руками. мне кажется, ято главное понять саму суть алгоритма, чтобы потом его можно было самому написать, если понадобится"
   ]
  }
 ],
 "metadata": {
  "colab": {
   "collapsed_sections": [
    "Z1XJQFOhbHGX",
    "h_r-WcOQbHGa",
    "XZMhoc30bHGb",
    "_7JeJcsKbHGb",
    "ga5bow3HbHGb"
   ],
   "provenance": []
  },
  "kernelspec": {
   "display_name": "Python 3 (ipykernel)",
   "language": "python",
   "name": "python3"
  },
  "language_info": {
   "codemirror_mode": {
    "name": "ipython",
    "version": 3
   },
   "file_extension": ".py",
   "mimetype": "text/x-python",
   "name": "python",
   "nbconvert_exporter": "python",
   "pygments_lexer": "ipython3",
   "version": "3.11.4"
  }
 },
 "nbformat": 4,
 "nbformat_minor": 1
}
